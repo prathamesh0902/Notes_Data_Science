{
  "cells": [
    {
      "cell_type": "markdown",
      "metadata": {
        "id": "6n4Tdpgc9jXT"
      },
      "source": [
        "# BLEU"
      ]
    },
    {
      "cell_type": "code",
      "execution_count": null,
      "metadata": {
        "colab": {
          "base_uri": "https://localhost:8080/"
        },
        "id": "KHPv9K9z9iB4",
        "outputId": "442f77f7-bba2-4687-d91b-604ffa38210e"
      },
      "outputs": [
        {
          "name": "stdout",
          "output_type": "stream",
          "text": [
            "1.491668146240062e-154\n"
          ]
        }
      ],
      "source": [
        "# very short\n",
        "from nltk.translate.bleu_score import sentence_bleu\n",
        "reference = [['the', 'quick']]\n",
        "candidate = ['the', 'quick']\n",
        "score = sentence_bleu(reference, candidate)\n",
        "print(score)"
      ]
    },
    {
      "cell_type": "code",
      "execution_count": null,
      "metadata": {
        "colab": {
          "base_uri": "https://localhost:8080/"
        },
        "id": "y93430o89iq5",
        "outputId": "df6bcf66-e1a5-43af-88af-5d45bc18e508"
      },
      "outputs": [
        {
          "name": "stdout",
          "output_type": "stream",
          "text": [
            "Cumulative 1-gram: 0.428571\n",
            "Cumulative 2-gram: 0.267261\n",
            "Cumulative 3-gram: 0.000000\n",
            "Cumulative 4-gram: 0.000000\n"
          ]
        }
      ],
      "source": [
        "# cumulative BLEU scores\n",
        "from nltk.translate.bleu_score import sentence_bleu\n",
        "reference = [['this', 'is', 'small', 'test']]\n",
        "candidate = ['this', 'is', 'a', 'test','of','bleu','calculation']\n",
        "print('Cumulative 1-gram: %f' % sentence_bleu(reference, candidate, weights=(1, 0, 0, 0)))\n",
        "print('Cumulative 2-gram: %f' % sentence_bleu(reference, candidate, weights=(0.5, 0.5, 0, 0)))\n",
        "print('Cumulative 3-gram: %f' % sentence_bleu(reference, candidate, weights=(0.33, 0.33, 0.33, 0)))\n",
        "print('Cumulative 4-gram: %f' % sentence_bleu(reference, candidate, weights=(0.25, 0.25, 0.25, 0.25)))"
      ]
    },
    {
      "cell_type": "code",
      "execution_count": null,
      "metadata": {
        "colab": {
          "base_uri": "https://localhost:8080/"
        },
        "id": "D5WEvcC8-CBR",
        "outputId": "f225954f-fdfd-409e-ba1f-6b3358c8da0c"
      },
      "outputs": [
        {
          "name": "stdout",
          "output_type": "stream",
          "text": [
            "Cumulative 1-gram: 0.000000\n",
            "Cumulative 2-gram: 0.000000\n",
            "Cumulative 3-gram: 0.000000\n",
            "Cumulative 4-gram: 0.000000\n"
          ]
        }
      ],
      "source": [
        "# cumulative BLEU scores\n",
        "from nltk.translate.bleu_score import sentence_bleu\n",
        "reference = [['this is small test']]\n",
        "candidate = ['this is a test of bleu calculation']\n",
        "print('Cumulative 1-gram: %f' % sentence_bleu(reference, candidate, weights=(1, 0, 0, 0)))\n",
        "print('Cumulative 2-gram: %f' % sentence_bleu(reference, candidate, weights=(0.5, 0.5, 0, 0)))\n",
        "print('Cumulative 3-gram: %f' % sentence_bleu(reference, candidate, weights=(0.33, 0.33, 0.33, 0)))\n",
        "print('Cumulative 4-gram: %f' % sentence_bleu(reference, candidate, weights=(0.25, 0.25, 0.25, 0.25)))"
      ]
    },
    {
      "cell_type": "markdown",
      "metadata": {},
      "source": [
        "# Generative AI"
      ]
    },
    {
      "cell_type": "markdown",
      "metadata": {},
      "source": [
        "Large Language Models (LLMs) are advanced machine learning models designed to understand and generate human language. They are typically based on deep learning architectures like the Transformer, and are trained on massive datasets to perform a variety of natural language processing (NLP) tasks. Examples of LLMs include OpenAI's GPT-3, GPT-4, Google's BERT, and Facebook's RoBERTa.\n",
        "\n",
        "### Key Characteristics of LLMs:\n",
        "\n",
        "1. **Scale**: LLMs are trained on vast amounts of text data and contain billions of parameters, which allow them to generate coherent and contextually relevant text.\n",
        "2. **Versatility**: They can perform a wide range of NLP tasks, including text generation, translation, summarization, question answering, and sentiment analysis.\n",
        "3. **Contextual Understanding**: LLMs excel at understanding context, making them capable of generating human-like responses and understanding nuanced queries.\n",
        "\n",
        "### How to Integrate LLMs\n",
        "\n",
        "Integrating LLMs into applications can vary depending on the specific model and the use case. Here’s a general overview of the steps involved:\n",
        "\n",
        "1. **Choose a Model**:\n",
        "   - Decide which LLM to use based on your requirements. For instance, OpenAI's GPT-4 for versatile language tasks, or BERT for tasks requiring deep understanding of context.\n",
        "\n",
        "2. **Access the Model**:\n",
        "   - **API Services**: Many LLMs are available via cloud-based API services. For example, OpenAI provides access to GPT-3 and GPT-4 via API.\n",
        "   - **Self-Hosting**: For models that are open-source (like BERT or smaller versions of GPT), you can download and run them on your own infrastructure.\n",
        "\n",
        "3. **Set Up the Environment**:\n",
        "   - **Cloud API Integration**: Sign up for access, obtain API keys, and set up your development environment to make API calls.\n",
        "   - **Self-Hosting**: Set up the necessary hardware (e.g., GPUs) and software environment (e.g., Python, TensorFlow/PyTorch) to run the model locally or on a cloud platform.\n",
        "\n",
        "4. **Develop Your Application**:\n",
        "   - **API Calls**: For API-based models, integrate API calls into your application to send text prompts and receive generated text.\n",
        "   - **Model Inference**: For self-hosted models, load the model using a suitable framework and write code to perform inference on your input data.\n",
        "\n",
        "5. **Fine-Tuning and Customization**:\n",
        "   - Depending on your use case, you might need to fine-tune the LLM on your specific dataset to improve performance.\n",
        "   - Fine-tuning involves additional training of the pre-trained model on a smaller, domain-specific dataset.\n",
        "\n",
        "6. **Deploy and Monitor**:\n",
        "   - Deploy your application with the integrated LLM.\n",
        "   - Continuously monitor performance and gather feedback to make adjustments and improvements.\n",
        "\n",
        "### Example Integration Using OpenAI’s GPT-4 API\n",
        "\n",
        "1. **Sign Up and Get API Key**:\n",
        "   - Sign up on OpenAI’s website and obtain your API key.\n",
        "\n",
        "2. **Install Required Libraries**:\n",
        "   - Install the OpenAI Python client library:\n",
        "     ```bash\n",
        "     pip install openai\n",
        "     ```\n",
        "\n",
        "3. **Write Code to Call the API**:\n",
        "   ```python\n",
        "   import openai\n",
        "\n",
        "   # Set your API key\n",
        "   openai.api_key = 'your-api-key'\n",
        "\n",
        "   # Define a prompt\n",
        "   prompt = \"Explain the benefits of using large language models.\"\n",
        "\n",
        "   # Call the API\n",
        "   response = openai.Completion.create(\n",
        "       engine=\"text-davinci-003\",  # Choose the model\n",
        "       prompt=prompt,\n",
        "       max_tokens=150\n",
        "   )\n",
        "\n",
        "   # Print the response\n",
        "   print(response.choices[0].text.strip())\n",
        "   ```\n",
        "\n",
        "### Example Integration Using BERT\n",
        "\n",
        "1. **Install Required Libraries**:\n",
        "   - Install the `transformers` library by Hugging Face:\n",
        "     ```bash\n",
        "     pip install transformers\n",
        "     ```\n",
        "\n",
        "2. **Write Code to Load and Use BERT**:\n",
        "   ```python\n",
        "   from transformers import BertTokenizer, BertModel\n",
        "\n",
        "   # Load pre-trained model and tokenizer\n",
        "   tokenizer = BertTokenizer.from_pretrained('bert-base-uncased')\n",
        "   model = BertModel.from_pretrained('bert-base-uncased')\n",
        "\n",
        "   # Tokenize input text\n",
        "   inputs = tokenizer(\"Hello, how are you?\", return_tensors='pt')\n",
        "\n",
        "   # Perform inference\n",
        "   outputs = model(**inputs)\n",
        "\n",
        "   # Extract last hidden states\n",
        "   last_hidden_states = outputs.last_hidden_state\n",
        "   print(last_hidden_states)\n",
        "   ```\n",
        "\n",
        "### Use Cases for LLM Integration\n",
        "\n",
        "- **Chatbots and Virtual Assistants**: Enhance user interaction with intelligent, context-aware responses.\n",
        "- **Content Generation**: Automate writing tasks such as generating articles, summaries, or creative content.\n",
        "- **Customer Support**: Provide instant, accurate answers to customer queries.\n",
        "- **Language Translation**: Translate text between languages with high accuracy.\n",
        "- **Sentiment Analysis**: Analyze customer feedback and social media content to gauge sentiment.\n",
        "\n",
        "By integrating LLMs, you can significantly enhance the capabilities of your applications, making them more intelligent and responsive to user needs."
      ]
    },
    {
      "cell_type": "code",
      "execution_count": null,
      "metadata": {
        "vscode": {
          "languageId": "plaintext"
        }
      },
      "outputs": [],
      "source": [
        "from transformers import BertTokenizer, BertModel\n",
        "\n",
        "# Load pre-trained model and tokenizer\n",
        "tokenizer = BertTokenizer.from_pretrained('bert-base-uncased')\n",
        "model = BertModel.from_pretrained('bert-base-uncased')\n",
        "\n",
        "# Tokenize input text\n",
        "inputs = tokenizer(\"Hello, how are you?\", return_tensors='pt')\n",
        "\n",
        "# Perform inference\n",
        "outputs = model(**inputs)\n",
        "\n",
        "# Extract last hidden states\n",
        "last_hidden_states = outputs.last_hidden_state\n",
        "print(last_hidden_states)\n"
      ]
    },
    {
      "cell_type": "markdown",
      "metadata": {
        "id": "XoYU4iZNygYY"
      },
      "source": [
        "# Time series"
      ]
    },
    {
      "cell_type": "markdown",
      "metadata": {},
      "source": [
        "ARIMA, SARIMA, and SARIMAX are all time series forecasting models used to predict future values based on past data. Each model builds on the previous one, adding complexity to handle specific types of data patterns. Here's a breakdown of the differences:\n",
        "\n",
        "### 1. **ARIMA (AutoRegressive Integrated Moving Average)**\n",
        "ARIMA is a basic time series forecasting model that combines three components:\n",
        "\n",
        "- **AR (AutoRegressive)**: This component models the relationship between an observation and a number of lagged observations (i.e., previous values in the series). It's essentially using past values to predict future ones.\n",
        "  \n",
        "- **I (Integrated)**: This component involves differencing the data to make it stationary, meaning the mean, variance, and autocorrelation structure do not change over time. The integration step removes trends and seasonality.\n",
        "  \n",
        "- **MA (Moving Average)**: This component models the relationship between an observation and a residual error from a moving average model applied to lagged observations. It captures the noise in the time series.\n",
        "\n",
        "**ARIMA Model Notation**: \n",
        "- ARIMA(p, d, q)\n",
        "  - **p**: Number of lag observations included in the model (AR order).\n",
        "  - **d**: Number of times the raw observations are differenced (degree of differencing).\n",
        "  - **q**: Size of the moving average window (MA order).\n",
        "\n",
        "### 2. **SARIMA (Seasonal AutoRegressive Integrated Moving Average)**\n",
        "SARIMA extends ARIMA to handle **seasonal** patterns in the data. It includes seasonal components in addition to the regular ARIMA components.\n",
        "\n",
        "SARIMA includes the following components:\n",
        "\n",
        "- **Seasonal AR (AutoRegressive)**: Similar to AR, but applied to seasonal lagged observations (e.g., data points from the same season in previous cycles).\n",
        "  \n",
        "- **Seasonal I (Integrated)**: Seasonal differencing to remove seasonality (e.g., subtracting the value from the same season last year).\n",
        "  \n",
        "- **Seasonal MA (Moving Average)**: Similar to MA, but applied to seasonal errors.\n",
        "\n",
        "**SARIMA Model Notation**:\n",
        "- SARIMA(p, d, q)(P, D, Q)[m]\n",
        "  - **(p, d, q)**: Non-seasonal parameters (as in ARIMA).\n",
        "  - **(P, D, Q)**: Seasonal parameters.\n",
        "  - **m**: The number of observations per season (e.g., `m=12` for monthly data with a yearly seasonal pattern).\n",
        "\n",
        "### 3. **SARIMAX (Seasonal AutoRegressive Integrated Moving Average with Exogenous Regressors)**\n",
        "SARIMAX is an extension of SARIMA that allows for the inclusion of **exogenous variables** (external factors) that can influence the forecast. These variables are not part of the time series itself but can help improve the model's accuracy.\n",
        "\n",
        "SARIMAX includes all the components of SARIMA, plus:\n",
        "\n",
        "- **Exogenous Regressors (X)**: Additional external variables (e.g., economic indicators, weather data) that are believed to have an influence on the target variable.\n",
        "\n",
        "**SARIMAX Model Notation**:\n",
        "- SARIMAX(p, d, q)(P, D, Q)[m] + X\n",
        "  - **X**: Represents the exogenous variables added to the model.\n",
        "\n",
        "### Summary of Differences:\n",
        "\n",
        "- **ARIMA**: Used for non-seasonal data and does not include any external variables.\n",
        "- **SARIMA**: Adds seasonal components to ARIMA, making it suitable for data with seasonal patterns.\n",
        "- **SARIMAX**: Builds on SARIMA by allowing the inclusion of exogenous variables, making it suitable for complex time series data that are influenced by external factors.\n",
        "\n",
        "### When to Use Each Model:\n",
        "\n",
        "- **ARIMA**: Use when your time series data does not exhibit seasonality or is stationary after differencing.\n",
        "- **SARIMA**: Use when your data shows seasonal patterns (e.g., monthly sales data that peaks in December).\n",
        "- **SARIMAX**: Use when your data is influenced by external factors (e.g., sales data influenced by marketing spend or economic indicators).\n",
        "\n",
        "Each of these models is powerful in its own context, and the choice between them depends on the specific characteristics of the time series data you are analyzing."
      ]
    },
    {
      "cell_type": "code",
      "execution_count": null,
      "metadata": {
        "colab": {
          "base_uri": "https://localhost:8080/",
          "height": 1000
        },
        "id": "LXBOl32fkfBw",
        "outputId": "d0d4c2c1-6a5b-4cd7-cd96-9f236e7b02fd"
      },
      "outputs": [
        {
          "data": {
            "image/png": "[encoded data removed]",
            "text/plain": [
              "<Figure size 1000x600 with 1 Axes>"
            ]
          },
          "metadata": {},
          "output_type": "display_data"
        },
        {
          "data": {
            "image/png": "[encoded data removed]",
            "text/plain": [
              "<Figure size 1000x800 with 4 Axes>"
            ]
          },
          "metadata": {},
          "output_type": "display_data"
        },
        {
          "name": "stderr",
          "output_type": "stream",
          "text": [
            "/usr/local/lib/python3.10/dist-packages/statsmodels/graphics/tsaplots.py:348: FutureWarning: The default method 'yw' can produce PACF values outside of the [-1,1] interval. After 0.13, the default will change tounadjusted Yule-Walker ('ywm'). You can use this method now by setting method='ywm'.\n",
            "  warnings.warn(\n"
          ]
        },
        {
          "data": {
            "image/png": "[encoded data removed]",
            "text/plain": [
              "<Figure size 640x480 with 1 Axes>"
            ]
          },
          "metadata": {},
          "output_type": "display_data"
        },
        {
          "data": {
            "image/png": "[encoded data removed]",
            "text/plain": [
              "<Figure size 640x480 with 1 Axes>"
            ]
          },
          "metadata": {},
          "output_type": "display_data"
        },
        {
          "name": "stdout",
          "output_type": "stream",
          "text": [
            "ADF Statistic: 2.593658411170706\n",
            "p-value: 0.999073955262466\n"
          ]
        },
        {
          "ename": "NotImplementedError",
          "evalue": "ignored",
          "output_type": "error",
          "traceback": [
            "\u001b[0;31m---------------------------------------------------------------------------\u001b[0m",
            "\u001b[0;31mNotImplementedError\u001b[0m                       Traceback (most recent call last)",
            "\u001b[0;32m<ipython-input-3-fa080b188f39>\u001b[0m in \u001b[0;36m<cell line: 68>\u001b[0;34m()\u001b[0m\n\u001b[1;32m     66\u001b[0m \u001b[0;34m\u001b[0m\u001b[0m\n\u001b[1;32m     67\u001b[0m \u001b[0;31m# Modeling - ARIMA\u001b[0m\u001b[0;34m\u001b[0m\u001b[0;34m\u001b[0m\u001b[0m\n\u001b[0;32m---> 68\u001b[0;31m \u001b[0mmodel\u001b[0m \u001b[0;34m=\u001b[0m \u001b[0mARIMA\u001b[0m\u001b[0;34m(\u001b[0m\u001b[0mdf\u001b[0m\u001b[0;34m[\u001b[0m\u001b[0;34m'sales'\u001b[0m\u001b[0;34m]\u001b[0m\u001b[0;34m,\u001b[0m \u001b[0morder\u001b[0m\u001b[0;34m=\u001b[0m\u001b[0;34m(\u001b[0m\u001b[0;36m1\u001b[0m\u001b[0;34m,\u001b[0m \u001b[0;36m1\u001b[0m\u001b[0;34m,\u001b[0m \u001b[0;36m1\u001b[0m\u001b[0;34m)\u001b[0m\u001b[0;34m)\u001b[0m  \u001b[0;31m# Example order (p, d, q)\u001b[0m\u001b[0;34m\u001b[0m\u001b[0;34m\u001b[0m\u001b[0m\n\u001b[0m\u001b[1;32m     69\u001b[0m \u001b[0mresults\u001b[0m \u001b[0;34m=\u001b[0m \u001b[0mmodel\u001b[0m\u001b[0;34m.\u001b[0m\u001b[0mfit\u001b[0m\u001b[0;34m(\u001b[0m\u001b[0;34m)\u001b[0m\u001b[0;34m\u001b[0m\u001b[0;34m\u001b[0m\u001b[0m\n\u001b[1;32m     70\u001b[0m \u001b[0;34m\u001b[0m\u001b[0m\n",
            "\u001b[0;32m/usr/local/lib/python3.10/dist-packages/statsmodels/tsa/arima_model.py\u001b[0m in \u001b[0;36m__init__\u001b[0;34m(self, *args, **kwargs)\u001b[0m\n\u001b[1;32m     43\u001b[0m \u001b[0;34m\u001b[0m\u001b[0m\n\u001b[1;32m     44\u001b[0m     \u001b[0;32mdef\u001b[0m \u001b[0m__init__\u001b[0m\u001b[0;34m(\u001b[0m\u001b[0mself\u001b[0m\u001b[0;34m,\u001b[0m \u001b[0;34m*\u001b[0m\u001b[0margs\u001b[0m\u001b[0;34m,\u001b[0m \u001b[0;34m**\u001b[0m\u001b[0mkwargs\u001b[0m\u001b[0;34m)\u001b[0m\u001b[0;34m:\u001b[0m\u001b[0;34m\u001b[0m\u001b[0;34m\u001b[0m\u001b[0m\n\u001b[0;32m---> 45\u001b[0;31m         \u001b[0msuper\u001b[0m\u001b[0;34m(\u001b[0m\u001b[0;34m)\u001b[0m\u001b[0;34m.\u001b[0m\u001b[0m__init__\u001b[0m\u001b[0;34m(\u001b[0m\u001b[0;34m*\u001b[0m\u001b[0margs\u001b[0m\u001b[0;34m,\u001b[0m \u001b[0;34m**\u001b[0m\u001b[0mkwargs\u001b[0m\u001b[0;34m)\u001b[0m\u001b[0;34m\u001b[0m\u001b[0;34m\u001b[0m\u001b[0m\n\u001b[0m\u001b[1;32m     46\u001b[0m \u001b[0;34m\u001b[0m\u001b[0m\n\u001b[1;32m     47\u001b[0m \u001b[0;34m\u001b[0m\u001b[0m\n",
            "\u001b[0;32m/usr/local/lib/python3.10/dist-packages/statsmodels/tsa/arima_model.py\u001b[0m in \u001b[0;36m__init__\u001b[0;34m(self, *args, **kwargs)\u001b[0m\n\u001b[1;32m     27\u001b[0m \u001b[0;34m\u001b[0m\u001b[0m\n\u001b[1;32m     28\u001b[0m     \u001b[0;32mdef\u001b[0m \u001b[0m__init__\u001b[0m\u001b[0;34m(\u001b[0m\u001b[0mself\u001b[0m\u001b[0;34m,\u001b[0m \u001b[0;34m*\u001b[0m\u001b[0margs\u001b[0m\u001b[0;34m,\u001b[0m \u001b[0;34m**\u001b[0m\u001b[0mkwargs\u001b[0m\u001b[0;34m)\u001b[0m\u001b[0;34m:\u001b[0m\u001b[0;34m\u001b[0m\u001b[0;34m\u001b[0m\u001b[0m\n\u001b[0;32m---> 29\u001b[0;31m         \u001b[0;32mraise\u001b[0m \u001b[0mNotImplementedError\u001b[0m\u001b[0;34m(\u001b[0m\u001b[0mARIMA_DEPRECATION_ERROR\u001b[0m\u001b[0;34m)\u001b[0m\u001b[0;34m\u001b[0m\u001b[0;34m\u001b[0m\u001b[0m\n\u001b[0m\u001b[1;32m     30\u001b[0m \u001b[0;34m\u001b[0m\u001b[0m\n\u001b[1;32m     31\u001b[0m \u001b[0;34m\u001b[0m\u001b[0m\n",
            "\u001b[0;31mNotImplementedError\u001b[0m: \nstatsmodels.tsa.arima_model.ARMA and statsmodels.tsa.arima_model.ARIMA have\nbeen removed in favor of statsmodels.tsa.arima.model.ARIMA (note the .\nbetween arima and model) and statsmodels.tsa.SARIMAX.\n\nstatsmodels.tsa.arima.model.ARIMA makes use of the statespace framework and\nis both well tested and maintained. It also offers alternative specialized\nparameter estimators.\n"
          ]
        }
      ],
      "source": [
        "import pandas as pd\n",
        "import numpy as np\n",
        "import matplotlib.pyplot as plt\n",
        "from statsmodels.tsa.seasonal import seasonal_decompose\n",
        "from statsmodels.graphics.tsaplots import plot_acf, plot_pacf\n",
        "from statsmodels.tsa.stattools import adfuller\n",
        "from statsmodels.tsa.arima_model import ARIMA\n",
        "\n",
        "# Create synthetic time series data\n",
        "np.random.seed(42)\n",
        "num_periods = 36  # Number of time periods\n",
        "t = pd.date_range(start='2022-01-01', periods=num_periods, freq='M')  # Create a DatetimeIndex\n",
        "noise = np.random.normal(0, 1, num_periods)\n",
        "sales = 100 + 2 * np.arange(1, num_periods + 1) + 5 * np.sin(2 * np.pi * np.arange(1, num_periods + 1) / 12) + noise\n",
        "\n",
        "# Create a DataFrame\n",
        "df = pd.DataFrame({'timestamp': pd.date_range(start='2022-01-01', periods=num_periods, freq='M'),\n",
        "                   'sales': sales}, index=t)\n",
        "\n",
        "# Visualize the synthetic time series data\n",
        "plt.figure(figsize=(10, 6))\n",
        "plt.plot(df['timestamp'], df['sales'])\n",
        "plt.xlabel('Timestamp')\n",
        "plt.ylabel('Sales')\n",
        "plt.title('Synthetic Monthly Sales Time Series')\n",
        "plt.show()\n",
        "\n",
        "\n",
        "\n",
        "# Decompose the time series\n",
        "decomposition = seasonal_decompose(df['sales'], model='additive')\n",
        "trend = decomposition.trend\n",
        "seasonal = decomposition.seasonal\n",
        "residual = decomposition.resid\n",
        "\n",
        "# Plot the decomposed components\n",
        "plt.figure(figsize=(10, 8))\n",
        "plt.subplot(411)\n",
        "plt.plot(df['timestamp'], df['sales'], label='Original')\n",
        "plt.legend()\n",
        "\n",
        "plt.subplot(412)\n",
        "plt.plot(df['timestamp'], trend, label='Trend')\n",
        "plt.legend()\n",
        "\n",
        "plt.subplot(413)\n",
        "plt.plot(df['timestamp'], seasonal, label='Seasonality')\n",
        "plt.legend()\n",
        "\n",
        "plt.subplot(414)\n",
        "plt.plot(df['timestamp'], residual, label='Residuals')\n",
        "plt.legend()\n",
        "\n",
        "plt.tight_layout()\n",
        "plt.show()\n",
        "\n",
        "# Autocorrelation and Partial Autocorrelation\n",
        "plot_acf(df['sales'])\n",
        "plot_pacf(df['sales'])\n",
        "plt.show()\n",
        "\n",
        "# Stationarity Check (Augmented Dickey-Fuller Test)\n",
        "result = adfuller(df['sales'])\n",
        "print('ADF Statistic:', result[0])\n",
        "print('p-value:', result[1])\n",
        "\n",
        "# Modeling - ARIMA\n",
        "model = ARIMA(df['sales'], order=(1, 1, 1))  # Example order (p, d, q)\n",
        "results = model.fit()\n",
        "\n",
        "# Forecasting\n",
        "forecast_steps = 6  # Example number of forecast steps\n",
        "forecast = results.forecast(steps=forecast_steps)\n",
        "\n",
        "# Visualize Results\n",
        "plt.plot(df['timestamp'], df['sales'], label='Actual')\n",
        "plt.plot(pd.date_range(start=df['timestamp'].iloc[-1], periods=forecast_steps+1, freq='MS')[1:], forecast, color='red', label='Forecast')\n",
        "plt.xlabel('Timestamp')\n",
        "plt.ylabel('Sales')\n",
        "plt.title('Sales Forecast')\n",
        "plt.legend()\n",
        "plt.show()\n"
      ]
    },
    {
      "cell_type": "markdown",
      "metadata": {
        "id": "qsuuBwhnE49h"
      },
      "source": [
        "# Generative AI"
      ]
    },
    {
      "cell_type": "code",
      "execution_count": null,
      "metadata": {
        "id": "ud2soI4FE8I6"
      },
      "outputs": [],
      "source": [
        "# pip install pandas"
      ]
    },
    {
      "cell_type": "code",
      "execution_count": null,
      "metadata": {
        "id": "NKiSaJ9rFA_w"
      },
      "outputs": [],
      "source": [
        "# pip install transformers"
      ]
    },
    {
      "cell_type": "markdown",
      "metadata": {
        "id": "2M2VqBkUxODc"
      },
      "source": [
        "Sentiment analysis using BERT model"
      ]
    },
    {
      "cell_type": "code",
      "execution_count": null,
      "metadata": {
        "colab": {
          "base_uri": "https://localhost:8080/",
          "height": 98,
          "referenced_widgets": [
            "0cb63a4b84b94158b1a9a95311316bba",
            "813d6dec789742f99f779d8260eefa34",
            "5cd27b4604ab4131adc6ee1b2db170ea",
            "5fa2ee40bec243518541e4a8cb23bce6",
            "665fa2ab82cc4d11a33ac3d79bdb6989",
            "66e1dd147f9843ea95a5e435f9ae1397",
            "c7df9c67e82b40a0b5375cb5acd26701",
            "f02b0111c00f442aad89bde8bd972d4b",
            "1cbd83d4c642470bb3a639601c876d03",
            "e2a4aea6d2eb439f92b8428e742e76f6",
            "ff200812c74b48be8e59127bab7a0913",
            "95ab3138d65e4512bbf5b45b76235078",
            "08cba0c1115e4db6ac967ccbb33b3d48",
            "be0aa5a65665411288b4b9f8f5a3d852",
            "62da5c2560374aa3a5966e94272d8a95",
            "7c9c076f3b44420d8d28676667aeca62",
            "6c4a79a90adf49669708f970976bbee4",
            "80fcb8f856de4472b534a8fa5298b168",
            "daf251f6e7214acebca73978b5c27b85",
            "61892b7bbc6741338e55891b93faa469",
            "5b7a1808634d405c8f8c875ff178b39c",
            "aed6c8bf8a0b48b28160bf3be24736d8"
          ]
        },
        "id": "ropaxhDJFvxh",
        "outputId": "fffc4e8f-0759-4579-d778-da07de613e67"
      },
      "outputs": [
        {
          "data": {
            "application/vnd.jupyter.widget-view+json": {
              "model_id": "0cb63a4b84b94158b1a9a95311316bba",
              "version_major": 2,
              "version_minor": 0
            },
            "text/plain": [
              "config.json:   0%|          | 0.00/953 [00:00<?, ?B/s]"
            ]
          },
          "metadata": {},
          "output_type": "display_data"
        },
        {
          "data": {
            "application/vnd.jupyter.widget-view+json": {
              "model_id": "95ab3138d65e4512bbf5b45b76235078",
              "version_major": 2,
              "version_minor": 0
            },
            "text/plain": [
              "pytorch_model.bin:   0%|          | 0.00/669M [00:00<?, ?B/s]"
            ]
          },
          "metadata": {},
          "output_type": "display_data"
        },
        {
          "name": "stdout",
          "output_type": "stream",
          "text": [
            "[{'label': '3 stars', 'score': 0.27593594789505005}]\n"
          ]
        }
      ],
      "source": [
        "from transformers import BertTokenizer, BertForSequenceClassification\n",
        "from transformers import pipeline\n",
        "\n",
        "# Load pre-trained BERT tokenizer and model\n",
        "tokenizer = BertTokenizer.from_pretrained('bert-base-uncased')\n",
        "model = BertForSequenceClassification.from_pretrained('nlptown/bert-base-multilingual-uncased-sentiment')\n",
        "\n",
        "# Create a sentiment-analysis pipeline\n",
        "nlp = pipeline('sentiment-analysis', model=model, tokenizer=tokenizer)\n",
        "\n",
        "# Define a sample text\n",
        "text = \"I love this product! It's amazing and works perfectly.\"\n",
        "\n",
        "# Perform sentiment analysis\n",
        "result = nlp(text)\n",
        "print(result)\n"
      ]
    },
    {
      "cell_type": "code",
      "execution_count": null,
      "metadata": {
        "colab": {
          "base_uri": "https://localhost:8080/"
        },
        "id": "bBuY4GdRFwM2",
        "outputId": "1992c7b7-9719-445f-c93e-2de433a6856c"
      },
      "outputs": [
        {
          "name": "stdout",
          "output_type": "stream",
          "text": [
            "[{'label': '5 stars', 'score': 0.29043906927108765}]\n"
          ]
        }
      ],
      "source": [
        "# Define a sample text\n",
        "text = \"I hate this product!\"\n",
        "\n",
        "# Perform sentiment analysis\n",
        "result = nlp(text)\n",
        "print(result)"
      ]
    },
    {
      "cell_type": "code",
      "execution_count": null,
      "metadata": {
        "colab": {
          "base_uri": "https://localhost:8080/"
        },
        "id": "7vzo2FZhGZlD",
        "outputId": "01e967ef-ab3f-4d05-ac49-3c025eea650c"
      },
      "outputs": [
        {
          "name": "stdout",
          "output_type": "stream",
          "text": [
            "[{'label': '2 stars', 'score': 0.276081919670105}]\n"
          ]
        }
      ],
      "source": [
        "# Define a sample text\n",
        "text = \"Great product\"\n",
        "\n",
        "# Perform sentiment analysis\n",
        "result = nlp(text)\n",
        "print(result)\n"
      ]
    },
    {
      "cell_type": "markdown",
      "metadata": {
        "id": "iLdiGPEpw8xk"
      },
      "source": [
        "Identifying name, age and gender of people from set of text."
      ]
    },
    {
      "cell_type": "code",
      "execution_count": null,
      "metadata": {
        "id": "qqx5YoHPwXng"
      },
      "outputs": [],
      "source": [
        "# Sample text\n",
        "text = \"John Doe is a 28-year-old male who lives in New York.\\\n",
        " Mary Smith, a 35-year-old female, is his colleague. The mango is very sweet\\\n",
        " My name is Prathamesh Joshi, male and I am 26 years old.\"\n"
      ]
    },
    {
      "cell_type": "code",
      "execution_count": null,
      "metadata": {
        "colab": {
          "base_uri": "https://localhost:8080/"
        },
        "id": "pjWbIOsTGZ55",
        "outputId": "91aca3bb-aeab-4b42-bdf1-0bbe5e11531d"
      },
      "outputs": [
        {
          "name": "stdout",
          "output_type": "stream",
          "text": [
            "Named Entities: [('John Doe', 'PERSON'), ('28-year-old', 'DATE'), ('New York', 'GPE'), ('Mary Smith', 'PERSON'), ('35-year-old', 'DATE'), ('Prathamesh Joshi', 'PERSON'), ('26 years old', 'DATE')]\n",
            "Extracted Information: {'names': ['John Doe', 'Mary Smith', 'Prathamesh Joshi'], 'ages': ['28-year-old', '35-year-old', '26 years old'], 'genders': ['male', 'female', 'male']}\n"
          ]
        }
      ],
      "source": [
        "from transformers import BertTokenizer, BertForTokenClassification\n",
        "from transformers import pipeline\n",
        "import spacy\n",
        "\n",
        "# Load the small English model from spaCy\n",
        "nlp = spacy.load(\"en_core_web_sm\")\n",
        "\n",
        "\n",
        "# Process the text with spaCy\n",
        "doc = nlp(text)\n",
        "\n",
        "# Extract named entities\n",
        "entities = [(ent.text, ent.label_) for ent in doc.ents]\n",
        "\n",
        "# Print entities\n",
        "print(\"Named Entities:\", entities)\n",
        "\n",
        "# Custom extraction logic for age and gender\n",
        "def extract_info(doc):\n",
        "    info = {\"names\": [], \"ages\": [], \"genders\": []}\n",
        "    for ent in doc.ents:\n",
        "        if ent.label_ == \"PERSON\":\n",
        "            info[\"names\"].append(ent.text)\n",
        "        elif ent.label_ == \"DATE\" and any(char.isdigit() for char in ent.text):\n",
        "            info[\"ages\"].append(ent.text)\n",
        "\n",
        "    # Simple heuristic for gender (male/female words)\n",
        "    for token in doc:\n",
        "        if token.text.lower() in [\"male\", \"female\"]:\n",
        "            info[\"genders\"].append(token.text)\n",
        "\n",
        "    return info\n",
        "\n",
        "# Extract information\n",
        "info = extract_info(doc)\n",
        "print(\"Extracted Information:\", info)\n"
      ]
    }
  ],
  "metadata": {
    "colab": {
      "collapsed_sections": [
        "Acblar5ELNh6",
        "Z3EWknfEewdE",
        "Tx9EIJzfRO1V",
        "B-dk0z-FLNJM"
      ],
      "provenance": [],
      "toc_visible": true
    },
    "kernelspec": {
      "display_name": "Python 3",
      "name": "python3"
    },
    "language_info": {
      "name": "python"
    },
    "widgets": {
      "application/vnd.jupyter.widget-state+json": {
        "08cba0c1115e4db6ac967ccbb33b3d48": {
          "model_module": "@jupyter-widgets/controls",
          "model_module_version": "1.5.0",
          "model_name": "HTMLModel",
          "state": {
            "_dom_classes": [],
            "_model_module": "@jupyter-widgets/controls",
            "_model_module_version": "1.5.0",
            "_model_name": "HTMLModel",
            "_view_count": null,
            "_view_module": "@jupyter-widgets/controls",
            "_view_module_version": "1.5.0",
            "_view_name": "HTMLView",
            "description": "",
            "description_tooltip": null,
            "layout": "IPY_MODEL_6c4a79a90adf49669708f970976bbee4",
            "placeholder": "​",
            "style": "IPY_MODEL_80fcb8f856de4472b534a8fa5298b168",
            "value": "pytorch_model.bin: 100%"
          }
        },
        "0cb63a4b84b94158b1a9a95311316bba": {
          "model_module": "@jupyter-widgets/controls",
          "model_module_version": "1.5.0",
          "model_name": "HBoxModel",
          "state": {
            "_dom_classes": [],
            "_model_module": "@jupyter-widgets/controls",
            "_model_module_version": "1.5.0",
            "_model_name": "HBoxModel",
            "_view_count": null,
            "_view_module": "@jupyter-widgets/controls",
            "_view_module_version": "1.5.0",
            "_view_name": "HBoxView",
            "box_style": "",
            "children": [
              "IPY_MODEL_813d6dec789742f99f779d8260eefa34",
              "IPY_MODEL_5cd27b4604ab4131adc6ee1b2db170ea",
              "IPY_MODEL_5fa2ee40bec243518541e4a8cb23bce6"
            ],
            "layout": "IPY_MODEL_665fa2ab82cc4d11a33ac3d79bdb6989"
          }
        },
        "1cbd83d4c642470bb3a639601c876d03": {
          "model_module": "@jupyter-widgets/controls",
          "model_module_version": "1.5.0",
          "model_name": "ProgressStyleModel",
          "state": {
            "_model_module": "@jupyter-widgets/controls",
            "_model_module_version": "1.5.0",
            "_model_name": "ProgressStyleModel",
            "_view_count": null,
            "_view_module": "@jupyter-widgets/base",
            "_view_module_version": "1.2.0",
            "_view_name": "StyleView",
            "bar_color": null,
            "description_width": ""
          }
        },
        "5b7a1808634d405c8f8c875ff178b39c": {
          "model_module": "@jupyter-widgets/base",
          "model_module_version": "1.2.0",
          "model_name": "LayoutModel",
          "state": {
            "_model_module": "@jupyter-widgets/base",
            "_model_module_version": "1.2.0",
            "_model_name": "LayoutModel",
            "_view_count": null,
            "_view_module": "@jupyter-widgets/base",
            "_view_module_version": "1.2.0",
            "_view_name": "LayoutView",
            "align_content": null,
            "align_items": null,
            "align_self": null,
            "border": null,
            "bottom": null,
            "display": null,
            "flex": null,
            "flex_flow": null,
            "grid_area": null,
            "grid_auto_columns": null,
            "grid_auto_flow": null,
            "grid_auto_rows": null,
            "grid_column": null,
            "grid_gap": null,
            "grid_row": null,
            "grid_template_areas": null,
            "grid_template_columns": null,
            "grid_template_rows": null,
            "height": null,
            "justify_content": null,
            "justify_items": null,
            "left": null,
            "margin": null,
            "max_height": null,
            "max_width": null,
            "min_height": null,
            "min_width": null,
            "object_fit": null,
            "object_position": null,
            "order": null,
            "overflow": null,
            "overflow_x": null,
            "overflow_y": null,
            "padding": null,
            "right": null,
            "top": null,
            "visibility": null,
            "width": null
          }
        },
        "5cd27b4604ab4131adc6ee1b2db170ea": {
          "model_module": "@jupyter-widgets/controls",
          "model_module_version": "1.5.0",
          "model_name": "FloatProgressModel",
          "state": {
            "_dom_classes": [],
            "_model_module": "@jupyter-widgets/controls",
            "_model_module_version": "1.5.0",
            "_model_name": "FloatProgressModel",
            "_view_count": null,
            "_view_module": "@jupyter-widgets/controls",
            "_view_module_version": "1.5.0",
            "_view_name": "ProgressView",
            "bar_style": "success",
            "description": "",
            "description_tooltip": null,
            "layout": "IPY_MODEL_f02b0111c00f442aad89bde8bd972d4b",
            "max": 953,
            "min": 0,
            "orientation": "horizontal",
            "style": "IPY_MODEL_1cbd83d4c642470bb3a639601c876d03",
            "value": 953
          }
        },
        "5fa2ee40bec243518541e4a8cb23bce6": {
          "model_module": "@jupyter-widgets/controls",
          "model_module_version": "1.5.0",
          "model_name": "HTMLModel",
          "state": {
            "_dom_classes": [],
            "_model_module": "@jupyter-widgets/controls",
            "_model_module_version": "1.5.0",
            "_model_name": "HTMLModel",
            "_view_count": null,
            "_view_module": "@jupyter-widgets/controls",
            "_view_module_version": "1.5.0",
            "_view_name": "HTMLView",
            "description": "",
            "description_tooltip": null,
            "layout": "IPY_MODEL_e2a4aea6d2eb439f92b8428e742e76f6",
            "placeholder": "​",
            "style": "IPY_MODEL_ff200812c74b48be8e59127bab7a0913",
            "value": " 953/953 [00:00&lt;00:00, 31.0kB/s]"
          }
        },
        "61892b7bbc6741338e55891b93faa469": {
          "model_module": "@jupyter-widgets/controls",
          "model_module_version": "1.5.0",
          "model_name": "ProgressStyleModel",
          "state": {
            "_model_module": "@jupyter-widgets/controls",
            "_model_module_version": "1.5.0",
            "_model_name": "ProgressStyleModel",
            "_view_count": null,
            "_view_module": "@jupyter-widgets/base",
            "_view_module_version": "1.2.0",
            "_view_name": "StyleView",
            "bar_color": null,
            "description_width": ""
          }
        },
        "62da5c2560374aa3a5966e94272d8a95": {
          "model_module": "@jupyter-widgets/controls",
          "model_module_version": "1.5.0",
          "model_name": "HTMLModel",
          "state": {
            "_dom_classes": [],
            "_model_module": "@jupyter-widgets/controls",
            "_model_module_version": "1.5.0",
            "_model_name": "HTMLModel",
            "_view_count": null,
            "_view_module": "@jupyter-widgets/controls",
            "_view_module_version": "1.5.0",
            "_view_name": "HTMLView",
            "description": "",
            "description_tooltip": null,
            "layout": "IPY_MODEL_5b7a1808634d405c8f8c875ff178b39c",
            "placeholder": "​",
            "style": "IPY_MODEL_aed6c8bf8a0b48b28160bf3be24736d8",
            "value": " 669M/669M [00:03&lt;00:00, 246MB/s]"
          }
        },
        "665fa2ab82cc4d11a33ac3d79bdb6989": {
          "model_module": "@jupyter-widgets/base",
          "model_module_version": "1.2.0",
          "model_name": "LayoutModel",
          "state": {
            "_model_module": "@jupyter-widgets/base",
            "_model_module_version": "1.2.0",
            "_model_name": "LayoutModel",
            "_view_count": null,
            "_view_module": "@jupyter-widgets/base",
            "_view_module_version": "1.2.0",
            "_view_name": "LayoutView",
            "align_content": null,
            "align_items": null,
            "align_self": null,
            "border": null,
            "bottom": null,
            "display": null,
            "flex": null,
            "flex_flow": null,
            "grid_area": null,
            "grid_auto_columns": null,
            "grid_auto_flow": null,
            "grid_auto_rows": null,
            "grid_column": null,
            "grid_gap": null,
            "grid_row": null,
            "grid_template_areas": null,
            "grid_template_columns": null,
            "grid_template_rows": null,
            "height": null,
            "justify_content": null,
            "justify_items": null,
            "left": null,
            "margin": null,
            "max_height": null,
            "max_width": null,
            "min_height": null,
            "min_width": null,
            "object_fit": null,
            "object_position": null,
            "order": null,
            "overflow": null,
            "overflow_x": null,
            "overflow_y": null,
            "padding": null,
            "right": null,
            "top": null,
            "visibility": null,
            "width": null
          }
        },
        "66e1dd147f9843ea95a5e435f9ae1397": {
          "model_module": "@jupyter-widgets/base",
          "model_module_version": "1.2.0",
          "model_name": "LayoutModel",
          "state": {
            "_model_module": "@jupyter-widgets/base",
            "_model_module_version": "1.2.0",
            "_model_name": "LayoutModel",
            "_view_count": null,
            "_view_module": "@jupyter-widgets/base",
            "_view_module_version": "1.2.0",
            "_view_name": "LayoutView",
            "align_content": null,
            "align_items": null,
            "align_self": null,
            "border": null,
            "bottom": null,
            "display": null,
            "flex": null,
            "flex_flow": null,
            "grid_area": null,
            "grid_auto_columns": null,
            "grid_auto_flow": null,
            "grid_auto_rows": null,
            "grid_column": null,
            "grid_gap": null,
            "grid_row": null,
            "grid_template_areas": null,
            "grid_template_columns": null,
            "grid_template_rows": null,
            "height": null,
            "justify_content": null,
            "justify_items": null,
            "left": null,
            "margin": null,
            "max_height": null,
            "max_width": null,
            "min_height": null,
            "min_width": null,
            "object_fit": null,
            "object_position": null,
            "order": null,
            "overflow": null,
            "overflow_x": null,
            "overflow_y": null,
            "padding": null,
            "right": null,
            "top": null,
            "visibility": null,
            "width": null
          }
        },
        "6c4a79a90adf49669708f970976bbee4": {
          "model_module": "@jupyter-widgets/base",
          "model_module_version": "1.2.0",
          "model_name": "LayoutModel",
          "state": {
            "_model_module": "@jupyter-widgets/base",
            "_model_module_version": "1.2.0",
            "_model_name": "LayoutModel",
            "_view_count": null,
            "_view_module": "@jupyter-widgets/base",
            "_view_module_version": "1.2.0",
            "_view_name": "LayoutView",
            "align_content": null,
            "align_items": null,
            "align_self": null,
            "border": null,
            "bottom": null,
            "display": null,
            "flex": null,
            "flex_flow": null,
            "grid_area": null,
            "grid_auto_columns": null,
            "grid_auto_flow": null,
            "grid_auto_rows": null,
            "grid_column": null,
            "grid_gap": null,
            "grid_row": null,
            "grid_template_areas": null,
            "grid_template_columns": null,
            "grid_template_rows": null,
            "height": null,
            "justify_content": null,
            "justify_items": null,
            "left": null,
            "margin": null,
            "max_height": null,
            "max_width": null,
            "min_height": null,
            "min_width": null,
            "object_fit": null,
            "object_position": null,
            "order": null,
            "overflow": null,
            "overflow_x": null,
            "overflow_y": null,
            "padding": null,
            "right": null,
            "top": null,
            "visibility": null,
            "width": null
          }
        },
        "7c9c076f3b44420d8d28676667aeca62": {
          "model_module": "@jupyter-widgets/base",
          "model_module_version": "1.2.0",
          "model_name": "LayoutModel",
          "state": {
            "_model_module": "@jupyter-widgets/base",
            "_model_module_version": "1.2.0",
            "_model_name": "LayoutModel",
            "_view_count": null,
            "_view_module": "@jupyter-widgets/base",
            "_view_module_version": "1.2.0",
            "_view_name": "LayoutView",
            "align_content": null,
            "align_items": null,
            "align_self": null,
            "border": null,
            "bottom": null,
            "display": null,
            "flex": null,
            "flex_flow": null,
            "grid_area": null,
            "grid_auto_columns": null,
            "grid_auto_flow": null,
            "grid_auto_rows": null,
            "grid_column": null,
            "grid_gap": null,
            "grid_row": null,
            "grid_template_areas": null,
            "grid_template_columns": null,
            "grid_template_rows": null,
            "height": null,
            "justify_content": null,
            "justify_items": null,
            "left": null,
            "margin": null,
            "max_height": null,
            "max_width": null,
            "min_height": null,
            "min_width": null,
            "object_fit": null,
            "object_position": null,
            "order": null,
            "overflow": null,
            "overflow_x": null,
            "overflow_y": null,
            "padding": null,
            "right": null,
            "top": null,
            "visibility": null,
            "width": null
          }
        },
        "80fcb8f856de4472b534a8fa5298b168": {
          "model_module": "@jupyter-widgets/controls",
          "model_module_version": "1.5.0",
          "model_name": "DescriptionStyleModel",
          "state": {
            "_model_module": "@jupyter-widgets/controls",
            "_model_module_version": "1.5.0",
            "_model_name": "DescriptionStyleModel",
            "_view_count": null,
            "_view_module": "@jupyter-widgets/base",
            "_view_module_version": "1.2.0",
            "_view_name": "StyleView",
            "description_width": ""
          }
        },
        "813d6dec789742f99f779d8260eefa34": {
          "model_module": "@jupyter-widgets/controls",
          "model_module_version": "1.5.0",
          "model_name": "HTMLModel",
          "state": {
            "_dom_classes": [],
            "_model_module": "@jupyter-widgets/controls",
            "_model_module_version": "1.5.0",
            "_model_name": "HTMLModel",
            "_view_count": null,
            "_view_module": "@jupyter-widgets/controls",
            "_view_module_version": "1.5.0",
            "_view_name": "HTMLView",
            "description": "",
            "description_tooltip": null,
            "layout": "IPY_MODEL_66e1dd147f9843ea95a5e435f9ae1397",
            "placeholder": "​",
            "style": "IPY_MODEL_c7df9c67e82b40a0b5375cb5acd26701",
            "value": "config.json: 100%"
          }
        },
        "95ab3138d65e4512bbf5b45b76235078": {
          "model_module": "@jupyter-widgets/controls",
          "model_module_version": "1.5.0",
          "model_name": "HBoxModel",
          "state": {
            "_dom_classes": [],
            "_model_module": "@jupyter-widgets/controls",
            "_model_module_version": "1.5.0",
            "_model_name": "HBoxModel",
            "_view_count": null,
            "_view_module": "@jupyter-widgets/controls",
            "_view_module_version": "1.5.0",
            "_view_name": "HBoxView",
            "box_style": "",
            "children": [
              "IPY_MODEL_08cba0c1115e4db6ac967ccbb33b3d48",
              "IPY_MODEL_be0aa5a65665411288b4b9f8f5a3d852",
              "IPY_MODEL_62da5c2560374aa3a5966e94272d8a95"
            ],
            "layout": "IPY_MODEL_7c9c076f3b44420d8d28676667aeca62"
          }
        },
        "aed6c8bf8a0b48b28160bf3be24736d8": {
          "model_module": "@jupyter-widgets/controls",
          "model_module_version": "1.5.0",
          "model_name": "DescriptionStyleModel",
          "state": {
            "_model_module": "@jupyter-widgets/controls",
            "_model_module_version": "1.5.0",
            "_model_name": "DescriptionStyleModel",
            "_view_count": null,
            "_view_module": "@jupyter-widgets/base",
            "_view_module_version": "1.2.0",
            "_view_name": "StyleView",
            "description_width": ""
          }
        },
        "be0aa5a65665411288b4b9f8f5a3d852": {
          "model_module": "@jupyter-widgets/controls",
          "model_module_version": "1.5.0",
          "model_name": "FloatProgressModel",
          "state": {
            "_dom_classes": [],
            "_model_module": "@jupyter-widgets/controls",
            "_model_module_version": "1.5.0",
            "_model_name": "FloatProgressModel",
            "_view_count": null,
            "_view_module": "@jupyter-widgets/controls",
            "_view_module_version": "1.5.0",
            "_view_name": "ProgressView",
            "bar_style": "success",
            "description": "",
            "description_tooltip": null,
            "layout": "IPY_MODEL_daf251f6e7214acebca73978b5c27b85",
            "max": 669491321,
            "min": 0,
            "orientation": "horizontal",
            "style": "IPY_MODEL_61892b7bbc6741338e55891b93faa469",
            "value": 669491321
          }
        },
        "c7df9c67e82b40a0b5375cb5acd26701": {
          "model_module": "@jupyter-widgets/controls",
          "model_module_version": "1.5.0",
          "model_name": "DescriptionStyleModel",
          "state": {
            "_model_module": "@jupyter-widgets/controls",
            "_model_module_version": "1.5.0",
            "_model_name": "DescriptionStyleModel",
            "_view_count": null,
            "_view_module": "@jupyter-widgets/base",
            "_view_module_version": "1.2.0",
            "_view_name": "StyleView",
            "description_width": ""
          }
        },
        "daf251f6e7214acebca73978b5c27b85": {
          "model_module": "@jupyter-widgets/base",
          "model_module_version": "1.2.0",
          "model_name": "LayoutModel",
          "state": {
            "_model_module": "@jupyter-widgets/base",
            "_model_module_version": "1.2.0",
            "_model_name": "LayoutModel",
            "_view_count": null,
            "_view_module": "@jupyter-widgets/base",
            "_view_module_version": "1.2.0",
            "_view_name": "LayoutView",
            "align_content": null,
            "align_items": null,
            "align_self": null,
            "border": null,
            "bottom": null,
            "display": null,
            "flex": null,
            "flex_flow": null,
            "grid_area": null,
            "grid_auto_columns": null,
            "grid_auto_flow": null,
            "grid_auto_rows": null,
            "grid_column": null,
            "grid_gap": null,
            "grid_row": null,
            "grid_template_areas": null,
            "grid_template_columns": null,
            "grid_template_rows": null,
            "height": null,
            "justify_content": null,
            "justify_items": null,
            "left": null,
            "margin": null,
            "max_height": null,
            "max_width": null,
            "min_height": null,
            "min_width": null,
            "object_fit": null,
            "object_position": null,
            "order": null,
            "overflow": null,
            "overflow_x": null,
            "overflow_y": null,
            "padding": null,
            "right": null,
            "top": null,
            "visibility": null,
            "width": null
          }
        },
        "e2a4aea6d2eb439f92b8428e742e76f6": {
          "model_module": "@jupyter-widgets/base",
          "model_module_version": "1.2.0",
          "model_name": "LayoutModel",
          "state": {
            "_model_module": "@jupyter-widgets/base",
            "_model_module_version": "1.2.0",
            "_model_name": "LayoutModel",
            "_view_count": null,
            "_view_module": "@jupyter-widgets/base",
            "_view_module_version": "1.2.0",
            "_view_name": "LayoutView",
            "align_content": null,
            "align_items": null,
            "align_self": null,
            "border": null,
            "bottom": null,
            "display": null,
            "flex": null,
            "flex_flow": null,
            "grid_area": null,
            "grid_auto_columns": null,
            "grid_auto_flow": null,
            "grid_auto_rows": null,
            "grid_column": null,
            "grid_gap": null,
            "grid_row": null,
            "grid_template_areas": null,
            "grid_template_columns": null,
            "grid_template_rows": null,
            "height": null,
            "justify_content": null,
            "justify_items": null,
            "left": null,
            "margin": null,
            "max_height": null,
            "max_width": null,
            "min_height": null,
            "min_width": null,
            "object_fit": null,
            "object_position": null,
            "order": null,
            "overflow": null,
            "overflow_x": null,
            "overflow_y": null,
            "padding": null,
            "right": null,
            "top": null,
            "visibility": null,
            "width": null
          }
        },
        "f02b0111c00f442aad89bde8bd972d4b": {
          "model_module": "@jupyter-widgets/base",
          "model_module_version": "1.2.0",
          "model_name": "LayoutModel",
          "state": {
            "_model_module": "@jupyter-widgets/base",
            "_model_module_version": "1.2.0",
            "_model_name": "LayoutModel",
            "_view_count": null,
            "_view_module": "@jupyter-widgets/base",
            "_view_module_version": "1.2.0",
            "_view_name": "LayoutView",
            "align_content": null,
            "align_items": null,
            "align_self": null,
            "border": null,
            "bottom": null,
            "display": null,
            "flex": null,
            "flex_flow": null,
            "grid_area": null,
            "grid_auto_columns": null,
            "grid_auto_flow": null,
            "grid_auto_rows": null,
            "grid_column": null,
            "grid_gap": null,
            "grid_row": null,
            "grid_template_areas": null,
            "grid_template_columns": null,
            "grid_template_rows": null,
            "height": null,
            "justify_content": null,
            "justify_items": null,
            "left": null,
            "margin": null,
            "max_height": null,
            "max_width": null,
            "min_height": null,
            "min_width": null,
            "object_fit": null,
            "object_position": null,
            "order": null,
            "overflow": null,
            "overflow_x": null,
            "overflow_y": null,
            "padding": null,
            "right": null,
            "top": null,
            "visibility": null,
            "width": null
          }
        },
        "ff200812c74b48be8e59127bab7a0913": {
          "model_module": "@jupyter-widgets/controls",
          "model_module_version": "1.5.0",
          "model_name": "DescriptionStyleModel",
          "state": {
            "_model_module": "@jupyter-widgets/controls",
            "_model_module_version": "1.5.0",
            "_model_name": "DescriptionStyleModel",
            "_view_count": null,
            "_view_module": "@jupyter-widgets/base",
            "_view_module_version": "1.2.0",
            "_view_name": "StyleView",
            "description_width": ""
          }
        }
      }
    }
  },
  "nbformat": 4,
  "nbformat_minor": 0
}
