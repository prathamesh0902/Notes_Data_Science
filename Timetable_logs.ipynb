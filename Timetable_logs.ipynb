{
 "cells": [
  {
   "cell_type": "raw",
   "metadata": {
    "vscode": {
     "languageId": "raw"
    }
   },
   "source": [
    "27 November 2024 DEL\n",
    "17:15 Met Pracheeti at DEL Airport\n",
    "17:35 Left Shivam and Pracheeti\n",
    "17:42 Boarding at Etihad and paying extra luggage\n",
    "18:42 Personal Check-in at the airport complete\n",
    "19:53 Personal At the airport gate 11\n",
    "\n",
    "28 November 2024 AUH\n",
    "07:14 AUH charging phone and going through mails / messages\n",
    "07:16 AUH email drafted for Sukhwinder\n",
    "11:24 AUH ate BK chicken grilled burger, large fries and coke\n",
    "11:58 AUH reached gate # 45\n",
    "12:10 AUH Making notes in notion\n",
    "12:26 $243.97 cancellation not allowed DFW > PIT > ORD > XNA\n",
    "12:38 Personal connection chat\n",
    "20:00 DEL Reached Gurgaon\n",
    "\n",
    "29 November 2024 DEL\n",
    "09:20 Personal calls with Ujjawal and Akanksha\n",
    "10:49 Starting scheduling\n",
    "11:51 Checking google drive desktop app\n",
    "12:10 Personal cooking rice and daal\n",
    "12:30 Personal creating profile\n",
    "13:20 Had lunch\n",
    "13:40 Organised Application Excel file\n",
    "14:00 Took rest\n",
    "14:30 Organized clothes and bags\n",
    "17:00 Personal Made coffee\n",
    "17:25 Updating linked in\n",
    "18:38 Learning SQL\n",
    "20:00 Sumit friends dinner\n",
    "22:00 Started working\n",
    "23:25 Payed credit card bills\n",
    "\n",
    "30 November 2024 DEL\n",
    "08:45 Ordered phone by porter\n",
    "09:00 Personal made breakfast\n",
    "09:30 Personal Dropped Sumit, visited the gym\n",
    "10:00 Personal ate breakfast\n",
    "11:00 Received phone from porter, connected hotspot\n",
    "11:05 Start applications\n",
    "11:14 Linkedin Easy apply\n",
    "11:45 Naukri applications\n",
    "12:15 Personal bought bananas, cooking rice\n",
    "12:33 Working on Job Applications\n",
    "13:00 Personal connection - 8826586683 Rajput \n",
    "13:45 Watching videos\n",
    "21:00 Made 3 connections at BnB\n",
    "\n",
    "1 December 2024 DEL\n",
    "11:30 Brought milk, biscuit, ate eggs\n",
    "12:50 Started applying for jobs\n",
    "13:28 Personal meeting with Nishant 7827148273\n",
    "15:57 Hot water for bath\n",
    "\n",
    "2 December 2024 DEL\n",
    "10:15 Woke Up\n",
    "11:15 Made Idli fry and gravy\n",
    "12:00 Went out to get coffee and curd\n",
    "15:00 Completed video Watching\n",
    "15:20 Washed kitchen utensils\n",
    "15:36 Making notes\n",
    "\n",
    "3 December 2024 DEL\n",
    "11:00 Went to gym\n",
    "12:55 Payed Umich Health Insurance\n",
    "12:57 Started applying for jobs\n",
    "\n",
    "4 December 2024 DEL\n",
    "11:46 Made breakfast and lunch\n",
    "11:47 Starting applying for jobs\n",
    "15:15 Screening interview for ACT data analyst job\n",
    "18:45 Watched video on Power Query https://www.youtube.com/watch?v=UAFExySaSPY\n",
    "19:00 Went to gym\n",
    "20:27 Tableau downloaded, installed and pc is restarted\n",
    "20:28 Tableau signing in\n",
    "20:46 Tableau video practise https://www.youtube.com/watch?v=tNLp_JVipoQ\n",
    "22:27 Not published to tableau public\n",
    "23:30 Watched all Tableau videos\n",
    "\n",
    "4 December 2024 DEL\n",
    "11:15 Made poha\n",
    "11:30 Started applying for jobs on Naukri\n",
    "\n",
    "13 December 2024 DEL\n",
    "12:44 Started applying for jobs on Naukri"
   ]
  },
  {
   "cell_type": "markdown",
   "metadata": {},
   "source": [
    "Planning"
   ]
  },
  {
   "cell_type": "raw",
   "metadata": {
    "vscode": {
     "languageId": "raw"
    }
   },
   "source": [
    "10 December 2024 DEL\n",
    "\n",
    "\n",
    "17:30 Going with Sumit\n",
    "18:30 going to gym\n",
    "20:00 Doing dinner\n",
    "21:00 Personal meet with Sagar\n"
   ]
  },
  {
   "cell_type": "markdown",
   "metadata": {},
   "source": []
  },
  {
   "cell_type": "markdown",
   "metadata": {},
   "source": [
    "### 2025"
   ]
  },
  {
   "cell_type": "raw",
   "metadata": {
    "vscode": {
     "languageId": "raw"
    }
   },
   "source": [
    "12 January 2025 DEL\n",
    "14:25 Applying for jobs on business analyst\n",
    "\n",
    "18 January 2025 DEL\n",
    "14:55 Applying for Amex jobs\n",
    "\n",
    "19 January 2025 DEL\n",
    "14:43 Applying for jobs on SEEK"
   ]
  }
 ],
 "metadata": {
  "language_info": {
   "name": "python"
  }
 },
 "nbformat": 4,
 "nbformat_minor": 2
}
